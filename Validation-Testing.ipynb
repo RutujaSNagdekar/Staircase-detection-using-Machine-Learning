{
 "cells": [
  {
   "cell_type": "markdown",
   "id": "fbacc371",
   "metadata": {},
   "source": [
    "# Traffic Detection on road "
   ]
  },
  {
   "cell_type": "code",
   "execution_count": 2,
   "id": "38f34ae2",
   "metadata": {},
   "outputs": [],
   "source": [
    "import numpy as np\n",
    "from sklearn.metrics import confusion_matrix\n",
    "import itertools\n",
    "import shutil\n",
    "import random\n",
    "import glob\n",
    "import warnings\n",
    "warnings.simplefilter(action='ignore', category=FutureWarning)\n",
    "%matplotlib inline\n",
    "import pandas as pd              \n",
    "from sklearn.preprocessing import StandardScaler\n",
    "import matplotlib.pyplot as plt  \n",
    "import PIL       \n",
    "import PIL.Image\n",
    "import os       \n",
    "import os.path\n",
    "from PIL import Image\n",
    "import cv2 as cv\n",
    "import cv2\n",
    "from scipy.stats import stats\n",
    "import pickle\n",
    "from sklearn. model_selection import train_test_split\n",
    "from sklearn.svm import SVC\n",
    "import math\n",
    "from sklearn.preprocessing import StandardScaler\n",
    "from sklearn.preprocessing import Normalizer   # to normalize sift feature extracted \n",
    "import pyttsx3\n",
    "\n"
   ]
  },
  {
   "cell_type": "code",
   "execution_count": 3,
   "id": "c7e47d4f",
   "metadata": {},
   "outputs": [],
   "source": [
    "pickle_in = open('E:\\TYSEM1\\EDI\\EDI_DATASET\\SVC_RBF_PCA_3.sav', 'rb')\n",
    "model = pickle.load(pickle_in )\n",
    "pickle_in.close()"
   ]
  },
  {
   "cell_type": "code",
   "execution_count": 4,
   "id": "9e86fb75",
   "metadata": {},
   "outputs": [],
   "source": [
    "pickle_in = open(r'E:\\TYSEM1\\EDI\\EDI_DATASET\\Kmeans_CL_5_Model.sav', 'rb')\n",
    "kmeans = pickle.load(pickle_in )\n",
    "pickle_in.close()"
   ]
  },
  {
   "cell_type": "code",
   "execution_count": 5,
   "id": "346084d3",
   "metadata": {},
   "outputs": [],
   "source": [
    "#load previously dumped hog image dataset \n",
    "pickle_in = open(r'E:\\TYSEM1\\EDI\\EDI_DATASET\\PCA_3_Model.sav', 'rb')\n",
    "pca = pickle.load(pickle_in )\n",
    "pickle_in.close()"
   ]
  },
  {
   "cell_type": "code",
   "execution_count": 6,
   "id": "022d77f4",
   "metadata": {},
   "outputs": [],
   "source": [
    "\n",
    "# setup for voice message\n",
    "Assistant = pyttsx3.init('sapi5')\n",
    "voices = Assistant.getProperty('voices')\n",
    "Assistant.setProperty('voices',voices[1].id)\n",
    "\n",
    "#function for converting text to speech \n",
    "def speak(audio):\n",
    "    print(\" \")\n",
    "    Assistant.say(audio)\n",
    "    print(f\": {audio}\")\n",
    "    print(\" \")\n",
    "    Assistant.runAndWait()"
   ]
  },
  {
   "cell_type": "code",
   "execution_count": 18,
   "id": "640d52fb",
   "metadata": {
    "scrolled": false
   },
   "outputs": [
    {
     "name": "stdout",
     "output_type": "stream",
     "text": [
      "[2]\n",
      " \n",
      ": Pothole is detected\n",
      " \n"
     ]
    }
   ],
   "source": [
    "data =[]\n",
    "path=r\"E:\\TYSEM1\\EDI\\EDI_DATASET\\test1.jfif\"\n",
    "a=cv2.imread(path)\n",
    "    \n",
    "#resize imageAC\n",
    "resize=(512,512)\n",
    "img=cv2.resize(a,resize)\n",
    "    \n",
    "gray = cv2.cvtColor(img, cv2.COLOR_BGR2GRAY)\n",
    "#initialise sift descriptor\n",
    "sift = cv2.SIFT_create()\n",
    "keypoints, descriptors = sift.detectAndCompute(gray, None)\n",
    "\n",
    "#convert the descriptor array into a dataframe format\n",
    "out=pd.DataFrame(descriptors)\n",
    "array_double = np.array(out, dtype=np.double)\n",
    "# print(out)\n",
    "\n",
    "a=kmeans.predict(array_double) \n",
    "hist=np.histogram(a,bins=[0,1,2,3,4,5,6])\n",
    "data.append(hist[0])\n",
    "Output = pd.DataFrame(data)\n",
    "    #print(\"Histogram:\\n\",Output)\n",
    "\n",
    "\n",
    "from sklearn.preprocessing import StandardScaler\n",
    "MuktaS = StandardScaler()\n",
    "Mukta = MuktaS.fit_transform(Output)\n",
    "MB = pca.transform(Mukta)\n",
    "#prediction\n",
    "y_pred1 = model.predict(MB)\n",
    "\n",
    "#prints the prediction of the class\n",
    "print(y_pred1)\n",
    "if y_pred1==1:\n",
    "    speak(\"Staircase is detected\")\n",
    "if y_pred1==2:\n",
    "    speak(\"Pothole is detected\")\n",
    "else:\n",
    "    speak(\"Nothing\")\n",
    "a=np.count_nonzero(y_pred1==1)\n",
    "#print(\"Staircase :\",a)\n",
    "a=np.count_nonzero(y_pred1==0)\n",
    "#print(\"Pothole :\",a)\n",
    "\n",
    "\n"
   ]
  },
  {
   "cell_type": "code",
   "execution_count": null,
   "id": "cf7a6bc0",
   "metadata": {},
   "outputs": [],
   "source": []
  },
  {
   "cell_type": "code",
   "execution_count": null,
   "id": "eeb927af",
   "metadata": {},
   "outputs": [],
   "source": []
  }
 ],
 "metadata": {
  "kernelspec": {
   "display_name": "Python 3 (ipykernel)",
   "language": "python",
   "name": "python3"
  },
  "language_info": {
   "codemirror_mode": {
    "name": "ipython",
    "version": 3
   },
   "file_extension": ".py",
   "mimetype": "text/x-python",
   "name": "python",
   "nbconvert_exporter": "python",
   "pygments_lexer": "ipython3",
   "version": "3.9.13"
  }
 },
 "nbformat": 4,
 "nbformat_minor": 5
}
